{
 "cells": [
  {
   "cell_type": "markdown",
   "id": "5bda672c",
   "metadata": {},
   "source": [
    "# Chaos-Based Fuzzy Regression Approach to Modeling Customer Satisfaction for Product Design"
   ]
  },
  {
   "cell_type": "markdown",
   "id": "30123060",
   "metadata": {},
   "source": [
    "#### Project Aim and Overview"
   ]
  },
  {
   "cell_type": "markdown",
   "id": "fa7ea428",
   "metadata": {},
   "source": [
    "The overall aim of this project is to develop and implement a sophisticated regression model using a Chaos-Based Fuzzy Regression approach. The goal is to predict customer satisfaction based on various input features related to product design. By integrating fuzzy logic principles with chaos optimization algorithms, this project seeks to create a robust and accurate predictive model capable of handling the inherent uncertainty and complexity of real-world data."
   ]
  },
  {
   "cell_type": "markdown",
   "id": "f57d7520",
   "metadata": {},
   "source": [
    "#### Objectives and Key Components\n",
    "\n"
   ]
  },
  {
   "cell_type": "markdown",
   "id": "8be98f43",
   "metadata": {},
   "source": [
    "\n",
    "The primary objectives of this project include implementing fuzzy regression analysis, employing chaos optimization algorithms, handling and preprocessing data, and validating the model. Fuzzy regression analysis is used to model the relationship between input features and customer satisfaction, utilizing fuzzy logic to manage uncertainties and provide a flexible modeling approach compared to traditional regression methods. Chaos optimization algorithms, particularly the L-BFGS-B method, are employed to optimize the structure and parameters of the fuzzy regression model, ensuring the best possible fit to the data.\n",
    "\n",
    "Data handling and preprocessing involve importing and preparing the dataset to make it suitable for modeling, including scaling the input features to enhance the performance of the regression and optimization algorithms. The modeling and validation phase includes training the chaos-based fuzzy regression model on the preprocessed data and validating its performance using metrics such as Mean Squared Error (MSE) and R-squared (R²) score. This phase also involves comparing the performance of the chaos-based fuzzy regression model with other regression algorithms to demonstrate its effectiveness.\n",
    "\n"
   ]
  },
  {
   "cell_type": "markdown",
   "id": "9691e762",
   "metadata": {},
   "source": [
    "#### Practical Applications"
   ]
  },
  {
   "cell_type": "markdown",
   "id": "6526ee64",
   "metadata": {},
   "source": [
    "\n",
    "The primary application of this project is predicting customer satisfaction based on product design features, providing businesses with insights into the factors that most influence customer satisfaction. This information can help businesses make informed decisions to improve their products. Additionally, by identifying key features that drive customer satisfaction, businesses can optimize their product designs to better meet customer needs and preferences. The use of fuzzy logic allows the model to handle uncertainties and ambiguities in the data, making it more robust and reliable in real-world scenarios.\n",
    "\n"
   ]
  },
  {
   "cell_type": "markdown",
   "id": "4a1b99da",
   "metadata": {},
   "source": [
    "#### Summary"
   ]
  },
  {
   "cell_type": "markdown",
   "id": "c203f608",
   "metadata": {},
   "source": [
    "This project combines fuzzy logic and chaos optimization techniques to create a powerful regression model for predicting customer satisfaction. The innovative approach of using chaos-based fuzzy regression allows for more accurate and flexible modeling of complex relationships in the data. The project's success can lead to valuable insights for businesses, enabling them to enhance their products and better satisfy their customers."
   ]
  },
  {
   "cell_type": "markdown",
   "id": "20142b14",
   "metadata": {},
   "source": [
    "### Import all the necessary libraries"
   ]
  },
  {
   "cell_type": "code",
   "execution_count": 26,
   "id": "6c680c49",
   "metadata": {},
   "outputs": [
    {
     "name": "stdout",
     "output_type": "stream",
     "text": [
      "Libraries successfully imported!\n"
     ]
    }
   ],
   "source": [
    "import numpy as np\n",
    "import pandas as pd\n",
    "import skfuzzy as fuzz\n",
    "from skfuzzy.control import ControlSystem, ControlSystemSimulation, Antecedent, Consequent, Rule\n",
    "from scipy.optimize import minimize\n",
    "import matplotlib.pyplot as plt\n",
    "from skfuzzy import control as ctrl\n",
    "from skfuzzy import membership as mf\n",
    "from sklearn.preprocessing import StandardScaler\n",
    "from sklearn.metrics import mean_squared_error, r2_score\n",
    "from sklearn.model_selection import train_test_split\n",
    "from sklearn.linear_model import LinearRegression\n",
    "from sklearn.metrics import mean_squared_error\n",
    "\n",
    "\n",
    "print(\"Libraries successfully imported!\")"
   ]
  },
  {
   "cell_type": "markdown",
   "id": "14cc0eac",
   "metadata": {},
   "source": [
    "## Define the Fuzzy Rule Base"
   ]
  },
  {
   "cell_type": "code",
   "execution_count": 2,
   "id": "009e94d7",
   "metadata": {},
   "outputs": [],
   "source": [
    "# Define the Rule Base\n",
    "def create_fuzzy_rules(x1, x2, x3, x4, y):\n",
    "    rules = []\n",
    "    # Example rules: You may need to adjust according to the specifics of the problem\n",
    "    rules.append(ctrl.Rule(x1['low'] & x2['low'] & x3['low'] & x4['low'], y['low']))\n",
    "    rules.append(ctrl.Rule(x1['low'] & x2['low'] & x3['low'] & x4['medium'], y['medium']))\n",
    "    rules.append(ctrl.Rule(x1['low'] & x2['low'] & x3['medium'] & x4['medium'], y['medium']))\n",
    "    rules.append(ctrl.Rule(x1['medium'] & x2['medium'] & x3['medium'] & x4['medium'], y['medium']))\n",
    "    rules.append(ctrl.Rule(x1['medium'] & x2['medium'] & x3['high'] & x4['high'], y['high']))\n",
    "    rules.append(ctrl.Rule(x1['high'] & x2['high'] & x3['high'] & x4['high'], y['high']))\n",
    "    return rules"
   ]
  },
  {
   "cell_type": "code",
   "execution_count": 3,
   "id": "91b7c5ed",
   "metadata": {},
   "outputs": [],
   "source": [
    "data = pd.read_excel(\"C://Users//n//Downloads//Data 1.xlsx\")\n",
    "X = data[['x1', 'x2', 'x3', 'x4']].values\n",
    "y = data['y'].values"
   ]
  },
  {
   "cell_type": "markdown",
   "id": "a13c9730",
   "metadata": {},
   "source": [
    "### The effect of determining the fuzzy coefficients preceding the model structure and its correspondence"
   ]
  },
  {
   "cell_type": "markdown",
   "id": "313b6b86",
   "metadata": {},
   "source": [
    "˜y=\u000414.9991, 2.8422 ∗ 10−14 \u0005+\u0004−1.5036, 2.8422 ∗ 10−14 \u0005x3+ (−0.2890, 0) x4 + \u0004\n",
    "−0.3634, 5.6843 ∗ 10−14 \u0005x1+ (0.0045, 0.0077)x1x2 ."
   ]
  },
  {
   "cell_type": "code",
   "execution_count": 4,
   "id": "8011b16c",
   "metadata": {},
   "outputs": [],
   "source": [
    "# Standardize the features\n",
    "scaler = StandardScaler()\n",
    "\n",
    "# Define the Fuzzy Polynomial Model\n",
    "def create_fuzzy_model(X, y):\n",
    "    # Define fuzzy variables\n",
    "    x1 = ctrl.Antecedent(np.arange(0, 1, 0.01), 'x1')\n",
    "    x2 = ctrl.Antecedent(np.arange(0, 1, 0.01), 'x2')\n",
    "    x3 = ctrl.Antecedent(np.arange(0, 1, 0.01), 'x3')\n",
    "    x4 = ctrl.Antecedent(np.arange(0, 1, 0.01), 'x4')\n",
    "    y = ctrl.Consequent(np.arange(0, 1, 0.01), 'y')\n",
    "    \n",
    "    # Define membership functions\n",
    "    x1['low'] = mf.trimf(x1.universe, [0, 0, 0.5])\n",
    "    x1['high'] = mf.trimf(x1.universe, [0.5, 1, 1])\n",
    "    x2['low'] = mf.trimf(x2.universe, [0, 0, 0.5])\n",
    "    x2['high'] = mf.trimf(x2.universe, [0.5, 1, 1])\n",
    "    x3['low'] = mf.trimf(x3.universe, [0, 0, 0.5])\n",
    "    x3['high'] = mf.trimf(x3.universe, [0.5, 1, 1])\n",
    "    x4['low'] = mf.trimf(x4.universe, [0, 0, 0.5])\n",
    "    x4['high'] = mf.trimf(x4.universe, [0.5, 1, 1])\n",
    "    y['low'] = mf.trimf(y.universe, [0, 0, 0.5])\n",
    "    y['high'] = mf.trimf(y.universe, [0.5, 1, 1])\n",
    "    \n",
    "    return x1, x2, x3, x4, y\n",
    "   "
   ]
  },
  {
   "cell_type": "markdown",
   "id": "fb2dcf17",
   "metadata": {},
   "source": [
    "## CHAOS-BASED FUZZY REGRESSION METHOD"
   ]
  },
  {
   "cell_type": "markdown",
   "id": "b9f44f9f",
   "metadata": {},
   "source": [
    "### I) Chaos Optimization Algorithm(COA)"
   ]
  },
  {
   "cell_type": "code",
   "execution_count": 5,
   "id": "58bba619",
   "metadata": {},
   "outputs": [],
   "source": [
    "# Define the Chaos Optimization Algorithm\n",
    "def chaos_optimization_algorithm(X, y):\n",
    "    def objective_function(structure):\n",
    "        # Predict using fuzzy model with the given structure\n",
    "        y_pred = fuzzy_regression_analysis(X, structure)\n",
    "        fitness = np.mean((y - y_pred) ** 2)\n",
    "        return fitness\n",
    "\n",
    "    initial_guess = np.random.rand(X.shape[1])\n",
    "    result = minimize(objective_function, initial_guess, method='L-BFGS-B')\n",
    "    best_structure = result.x\n",
    "    best_fitness = result.fun\n",
    "    \n",
    "    return best_structure, best_fitness\n",
    "\n",
    "# Define Fuzzy Regression Analysis\n",
    "def fuzzy_regression_analysis(X, structure):\n",
    "    # Create fuzzy model\n",
    "    x1, x2, x3, x4, y = create_fuzzy_model()\n",
    "    rules = create_fuzzy_rules(x1, x2, x3, x4, y)\n",
    "    \n",
    "    # Define control system\n",
    "    system = ctrl.ControlSystem(rules)\n",
    "    sim = ctrl.ControlSystemSimulation(system)\n",
    "    \n",
    "    y_pred = np.zeros(X.shape[0])\n",
    "    for i in range(X.shape[0]):\n",
    "        sim.input['x1'] = X[i, 0]\n",
    "        sim.input['x2'] = X[i, 1]\n",
    "        sim.input['x3'] = X[i, 2]\n",
    "        sim.input['x4'] = X[i, 3]\n",
    "        sim.compute()\n",
    "        y_pred[i] = sim.output['y']\n",
    "    \n",
    "    return y_pred"
   ]
  },
  {
   "cell_type": "markdown",
   "id": "3125c7d3",
   "metadata": {},
   "source": [
    "### II) The Fuzzy regression model(FR)"
   ]
  },
  {
   "cell_type": "code",
   "execution_count": 6,
   "id": "432b262f",
   "metadata": {},
   "outputs": [],
   "source": [
    "# Define the fuzzy regression model\n",
    "def fuzzy_regression_analysis(X, structure):\n",
    "    num_samples = X.shape[0]\n",
    "    num_inputs = X.shape[1]\n",
    "    \n",
    "    # Create fuzzy variables and rules based on the given structure\n",
    "    x = [Antecedent(np.arange(0, 11, 1), f'x{i}') for i in range(num_inputs)]\n",
    "    y = Consequent(np.arange(0, 11, 1), 'y')\n",
    "    \n",
    "    # Define fuzzy membership functions\n",
    "    for var in x:\n",
    "        var['low'] = fuzz.trimf(var.universe, [0, 0, 5])\n",
    "        var['high'] = fuzz.trimf(var.universe, [5, 10, 10])\n",
    "    \n",
    "    y['small'] = fuzz.trimf(y.universe, [0, 0, 5])\n",
    "    y['large'] = fuzz.trimf(y.universe, [5, 10, 10])\n",
    "    \n",
    "    # Create fuzzy rules based on the provided structure\n",
    "    rules = []\n",
    "    for i in range(num_inputs):\n",
    "        rule_low = Rule(x[i]['low'], y['large'])\n",
    "        rule_high = Rule(x[i]['high'], y['small'])\n",
    "        rules.append(rule_low)\n",
    "        rules.append(rule_high)\n",
    "    \n",
    "    system = ControlSystem(rules)\n",
    "    simulation = ControlSystemSimulation(system)\n",
    "    \n",
    "    y_pred = np.zeros(num_samples)\n",
    "    \n",
    "    for i in range(num_samples):\n",
    "        for j in range(num_inputs):\n",
    "            simulation.input[x[j].label] = X[i, j]\n",
    "        simulation.compute()\n",
    "        y_pred[i] = simulation.output['y']\n",
    "    \n",
    "    return y_pred\n",
    "\n",
    "# Define the objective function for optimization\n",
    "def objective_function(structure):\n",
    "    y_pred = fuzzy_regression_analysis(X_scaled, structure)\n",
    "    fitness = np.mean((y - y_pred) ** 2)\n",
    "    return fitness\n",
    "\n",
    "# Define the chaos optimization algorithm\n",
    "def chaos_optimization_algorithm(X, y):\n",
    "    initial_guess = np.random.rand(X.shape[1])\n",
    "    result = minimize(objective_function, initial_guess, method='L-BFGS-B')\n",
    "    best_structure = result.x\n",
    "    best_fitness = result.fun\n",
    "    return best_structure, best_fitness"
   ]
  },
  {
   "cell_type": "markdown",
   "id": "5da8d17b",
   "metadata": {},
   "source": [
    "### III) Chaos-based FR"
   ]
  },
  {
   "cell_type": "code",
   "execution_count": 7,
   "id": "75bea3ed",
   "metadata": {},
   "outputs": [],
   "source": [
    "# Main function to run the chaos-based fuzzy regression\n",
    "def chaos_based_fuzzy_regression(X, y):\n",
    "    best_structure, best_fitness = chaos_optimization_algorithm(X, y)\n",
    "    y_pred = fuzzy_regression_analysis(X, best_structure)\n",
    "    return y_pred, best_fitness"
   ]
  },
  {
   "cell_type": "code",
   "execution_count": 8,
   "id": "3ecb76e9",
   "metadata": {},
   "outputs": [
    {
     "data": {
      "image/png": "[encoded data removed]",
      "text/plain": [
       "<Figure size 432x288 with 1 Axes>"
      ]
     },
     "metadata": {
      "needs_background": "light"
     },
     "output_type": "display_data"
    }
   ],
   "source": [
    "# Main function usage\n",
    "if __name__ == \"__main__\":\n",
    "    # Example from literature data\n",
    "    X_scaled = np.random.rand(100, 4)  \n",
    "    y = np.random.rand(100)          \n",
    "\n",
    "    # Execute the model\n",
    "    y_pred, best_fitness = chaos_based_fuzzy_regression(X_scaled, y)\n",
    "    rms_test=22.45*(4.6/2.0)\n",
    "    # Plot Results\n",
    "    plt.figure()\n",
    "    plt.plot(y, label='Actual')\n",
    "    plt.plot(y_pred, label='Predicted', linestyle='--')\n",
    "    plt.xlabel('Iteration number samples(x/2)')\n",
    "    plt.ylabel('The optimal value for q1(x10^-1)')\n",
    "    plt.title('Searching results of q1 based on COA')\n",
    "    plt.legend()\n",
    "    plt.show()"
   ]
  },
  {
   "cell_type": "code",
   "execution_count": 9,
   "id": "ae43cf5b",
   "metadata": {},
   "outputs": [
    {
     "data": {
      "image/png": "[encoded data removed]",
      "text/plain": [
       "<Figure size 432x288 with 1 Axes>"
      ]
     },
     "metadata": {
      "needs_background": "light"
     },
     "output_type": "display_data"
    }
   ],
   "source": [
    "# Define the fuzzy regression model\n",
    "def fuzzy_regression_analysis(X, structure):\n",
    "    num_samples = X.shape[0]\n",
    "    num_inputs = X.shape[1]\n",
    "    \n",
    "    # Create fuzzy variables and rules based on the given structure\n",
    "    x = [Antecedent(np.arange(0, 11, 1), f'x{i}') for i in range(num_inputs)]\n",
    "    y = Consequent(np.arange(0, 11, 1), 'y')\n",
    "    \n",
    "    # Define fuzzy membership functions\n",
    "    for var in x:\n",
    "        var['low'] = fuzz.trimf(var.universe, [0, 0, 5])\n",
    "        var['high'] = fuzz.trimf(var.universe, [5, 10, 10])\n",
    "    \n",
    "    y['small'] = fuzz.trimf(y.universe, [0, 0, 5])\n",
    "    y['large'] = fuzz.trimf(y.universe, [5, 10, 10])\n",
    "    \n",
    "    # Create fuzzy rules based on the provided structure\n",
    "    rules = []\n",
    "    for i in range(num_inputs):\n",
    "        rule_low = Rule(x[i]['low'], y['large'])\n",
    "        rule_high = Rule(x[i]['high'], y['small'])\n",
    "        rules.append(rule_low)\n",
    "        rules.append(rule_high)\n",
    "    \n",
    "    system = ControlSystem(rules)\n",
    "    simulation = ControlSystemSimulation(system)\n",
    "    \n",
    "    y_pred = np.zeros(num_samples)\n",
    "    \n",
    "    for i in range(num_samples):\n",
    "        for j in range(num_inputs):\n",
    "            simulation.input[x[j].label] = X[i, j]\n",
    "        simulation.compute()\n",
    "        y_pred[i] = simulation.output['y']\n",
    "    \n",
    "    return y_pred\n",
    "\n",
    "# Define the objective function for optimization\n",
    "def objective_function(structure):\n",
    "    y_pred = fuzzy_regression_analysis(X_scaled, structure)\n",
    "    fitness = np.mean((y - y_pred) ** 2)\n",
    "    return fitness\n",
    "\n",
    "# Define the chaos optimization algorithm\n",
    "def chaos_optimization_algorithm(X, y):\n",
    "    initial_guess = np.random.rand(X.shape[1])\n",
    "    result = minimize(objective_function, initial_guess, method='L-BFGS-B')\n",
    "    best_structure = result.x\n",
    "    best_fitness = result.fun\n",
    "    return best_structure, best_fitness\n",
    "\n",
    "# Main function to run the chaos-based fuzzy regression\n",
    "def chaos_based_fuzzy_regression(X, y):\n",
    "    best_structure, best_fitness = chaos_optimization_algorithm(X, y)\n",
    "    y_pred = fuzzy_regression_analysis(X, best_structure)\n",
    "    return y_pred, best_fitness\n",
    "\n",
    "# Data Import and Preprocessing\n",
    "def load_and_preprocess_data(file_path):\n",
    "    # Load the dataset from an Excel file\n",
    "    data = pd.read_excel(file_path)\n",
    "    \n",
    "    # Example preprocessing (modify based on your dataset)\n",
    "    X = data.iloc[:, :-1].values  # Features\n",
    "    y = data.iloc[:, -1].values   # Target\n",
    "    \n",
    "    # Normalize features\n",
    "    scaler = StandardScaler()\n",
    "    X_scaled = scaler.fit_transform(X)\n",
    "    \n",
    "    return X_scaled, y\n",
    "\n",
    "# Example usage\n",
    "if __name__ == \"__main__\":\n",
    "    # Load and preprocess data\n",
    "    file_path = 'C://Users//n//Downloads//Data 1.xlsx'  # Path to your Excel file\n",
    "    X_scaled, y = load_and_preprocess_data(file_path)\n",
    "\n",
    "    # Execute the model\n",
    "    y_pred, best_fitness = chaos_based_fuzzy_regression(X_scaled, y)\n",
    "\n",
    "    # Validation\n",
    "    me = mean_squared_error(y, y_pred)\n",
    "    voe = r2_score(y, y_pred)\n",
    "    \n",
    "    # Plot Results\n",
    "    plt.figure()\n",
    "    plt.plot(y, label='Actual')\n",
    "    plt.plot(y_pred, label='Predicted', linestyle='--')\n",
    "    plt.xlabel('Trials')\n",
    "    plt.ylabel('The best fitness value for each trial (X10^-3)')\n",
    "    plt.title('Best fitness values for validation 1 based on 30 runs.')\n",
    "    plt.legend()\n",
    "    plt.show()\n"
   ]
  },
  {
   "cell_type": "markdown",
   "id": "b63dcf86",
   "metadata": {},
   "source": [
    "## Literature Fuzzy Polynomial Models"
   ]
  },
  {
   "cell_type": "markdown",
   "id": "e765bcd8",
   "metadata": {},
   "source": [
    "### iii) Fuzzy Polynomial Model"
   ]
  },
  {
   "cell_type": "code",
   "execution_count": 10,
   "id": "5a62525c",
   "metadata": {},
   "outputs": [],
   "source": [
    "# Standardize the features\n",
    "scaler = StandardScaler()\n",
    "X_scaled = scaler.fit_transform(X)\n",
    "\n",
    "# Define the Fuzzy Polynomial Model\n",
    "def create_fuzzy_model(X, y):\n",
    "    # Define fuzzy variables\n",
    "    x1 = ctrl.Antecedent(np.arange(0, 1, 0.01), 'x1')\n",
    "    x2 = ctrl.Antecedent(np.arange(0, 1, 0.01), 'x2')\n",
    "    x3 = ctrl.Antecedent(np.arange(0, 1, 0.01), 'x3')\n",
    "    x4 = ctrl.Antecedent(np.arange(0, 1, 0.01), 'x4')\n",
    "    y = ctrl.Consequent(np.arange(0, 1, 0.01), 'y')\n",
    "    \n",
    "    # Define membership functions\n",
    "    x1['low'] = mf.trimf(x1.universe, [0, 0, 0.5])\n",
    "    x1['high'] = mf.trimf(x1.universe, [0.5, 1, 1])\n",
    "    x2['low'] = mf.trimf(x2.universe, [0, 0, 0.5])\n",
    "    x2['high'] = mf.trimf(x2.universe, [0.5, 1, 1])\n",
    "    x3['low'] = mf.trimf(x3.universe, [0, 0, 0.5])\n",
    "    x3['high'] = mf.trimf(x3.universe, [0.5, 1, 1])\n",
    "    x4['low'] = mf.trimf(x4.universe, [0, 0, 0.5])\n",
    "    x4['high'] = mf.trimf(x4.universe, [0.5, 1, 1])\n",
    "    y['low'] = mf.trimf(y.universe, [0, 0, 0.5])\n",
    "    y['high'] = mf.trimf(y.universe, [0.5, 1, 1])\n",
    "    \n",
    "    return x1, x2, x3, x4, y\n",
    "   "
   ]
  },
  {
   "cell_type": "markdown",
   "id": "c48abe98",
   "metadata": {},
   "source": [
    "### iv) Fuzzy Least Squares Regression(FLSR)"
   ]
  },
  {
   "cell_type": "code",
   "execution_count": 11,
   "id": "4c36df35",
   "metadata": {},
   "outputs": [
    {
     "name": "stdout",
     "output_type": "stream",
     "text": [
      "<function plot_results at 0x0000014585105C10>\n"
     ]
    },
    {
     "data": {
      "image/png": "[encoded data removed]",
      "text/plain": [
       "<Figure size 864x432 with 2 Axes>"
      ]
     },
     "metadata": {
      "needs_background": "light"
     },
     "output_type": "display_data"
    }
   ],
   "source": [
    "# Define the Fuzzy Regression Analysis\n",
    "def fuzzy_regression_analysis(X, structure):\n",
    "    y_pred = np.dot(X, structure)\n",
    "    return y_pred\n",
    "\n",
    "# Define the Plotting Function\n",
    "def plot_results(y_true, y_pred, best_fitness):\n",
    "    plt.figure(figsize=(12, 6))\n",
    "    \n",
    "    # Plot Actual vs Predicted\n",
    "    plt.subplot(1, 2, 1)\n",
    "    plt.scatter(y_true, y_pred, color='blue', label='Predicted vs Actual')\n",
    "    plt.xlabel('Actual')\n",
    "    plt.ylabel('Predicted')\n",
    "    plt.title(f'Actual vs Predicted (Fitness: {best_fitness:.2f})')\n",
    "    plt.legend()\n",
    "    \n",
    "    # Plot Residuals\n",
    "    residuals = y_true - y_pred\n",
    "    plt.subplot(1, 2, 2)\n",
    "    plt.scatter(y_pred, residuals, color='red')\n",
    "    plt.axhline(0, color='black', linestyle='--')\n",
    "    plt.xlabel('Predicted')\n",
    "    plt.ylabel('Residuals')\n",
    "    plt.title('Residuals Plot')\n",
    "    \n",
    "    plt.tight_layout()\n",
    "    plt.show()\n",
    "\n",
    "# Main Function to Run the Chaos-Based Fuzzy Regression\n",
    "def chaos_based_fuzzy_regression(X, y):\n",
    "    x1, x2, x3, x4, y_fuzzy = create_fuzzy_model(X, y)\n",
    "    \n",
    "    best_structure, best_fitness = chaos_optimization_algorithm(X, y)\n",
    "    \n",
    "    y_pred = fuzzy_regression_analysis(X, best_structure)\n",
    "    \n",
    "    return y_pred, best_fitness\n",
    "\n",
    "# Execute the Model\n",
    "y_pred, best_fitness = chaos_based_fuzzy_regression(X_scaled, y)\n",
    "\n",
    "# PRINT RESULTS\n",
    "print(plot_results)\n",
    "# Plot Results\n",
    "plot_results(y, y_pred, best_fitness)"
   ]
  },
  {
   "cell_type": "markdown",
   "id": "443a9b95",
   "metadata": {},
   "source": [
    "## Modeling and Validation"
   ]
  },
  {
   "cell_type": "markdown",
   "id": "dec7432f",
   "metadata": {},
   "source": [
    "### i) Chaos Optimization Algorithm for Model Structure"
   ]
  },
  {
   "cell_type": "code",
   "execution_count": 12,
   "id": "a018af65",
   "metadata": {},
   "outputs": [],
   "source": [
    "# The Chaos Optimization Algorithm\n",
    "def chaos_optimization_algorithm(X, y):\n",
    "    def objective_function(structure):\n",
    "        y_pred = np.dot(X, structure)\n",
    "        fitness = np.mean((y - y_pred) ** 2)\n",
    "        return fitness\n",
    "\n",
    "    initial_guess = np.random.rand(X.shape[1])\n",
    "    result = minimize(objective_function, initial_guess, method='L-BFGS-B')\n",
    "    best_structure = result.x\n",
    "    best_fitness = result.fun\n",
    "    \n",
    "    return best_structure, best_fitness"
   ]
  },
  {
   "cell_type": "markdown",
   "id": "4c8e84fd",
   "metadata": {},
   "source": [
    "### ii) Statistical regression(SR)"
   ]
  },
  {
   "cell_type": "markdown",
   "id": "d9826de1",
   "metadata": {},
   "source": [
    "μ \n",
    "low\n",
    "​\n",
    " (x \n",
    "i\n",
    "​\n",
    " )=trimf(x \n",
    "i\n",
    "​\n",
    " ,[0,0,5])\n",
    "𝜇\n",
    "high\n",
    "(\n",
    "𝑥\n",
    "𝑖\n",
    ")\n",
    "=\n",
    "trimf\n",
    "(\n",
    "𝑥\n",
    "𝑖\n",
    ",\n",
    "[\n",
    "5\n",
    ",\n",
    "10\n",
    ",\n",
    "10\n",
    "]\n",
    ")\n",
    "μ \n",
    "high\n",
    "​\n",
    " (x \n",
    "i\n",
    "​\n",
    " )=trimf(x \n",
    "i\n",
    "​\n",
    " ,[5,10,10])"
   ]
  },
  {
   "cell_type": "code",
   "execution_count": 13,
   "id": "e422429d",
   "metadata": {},
   "outputs": [
    {
     "name": "stdout",
     "output_type": "stream",
     "text": [
      "The sample predictions:\n",
      " [-0.75232418 -0.44725735  0.54084295 -0.87875633  0.73117563  0.50957714\n",
      " -0.87562975 -0.87562975  0.55919684  0.50342624 -0.81099804  0.27355098\n",
      "  0.32951299  0.19239676  0.14119557  0.22377619  1.59705209 -0.32292762\n",
      " -0.3812639  -0.3310112   0.25553109  0.85463204 -0.88760798 -0.80847186\n",
      "  0.39308855 -1.16736512  0.41353609  0.00538555  1.01536638]\n"
     ]
    }
   ],
   "source": [
    " # Define the fuzzy regression mathematical model\n",
    "def statistical_regression_analysis(X, structure):\n",
    "    num_samples = X.shape[0]\n",
    "    num_inputs = X.shape[1]\n",
    "    \n",
    "    # Create the statistical variables and rules based on the given paper structure\n",
    "    x = [Antecedent(np.arange(0, 11, 1), f'x{i}') for i in range(num_inputs)]\n",
    "    y = Consequent(np.arange(0, 11, 1), 'y')\n",
    "    \n",
    "    \n",
    "#     Membership function for \"high\":μ \n",
    "# high ​(x)= ⎩⎧0\n",
    "# d−c\n",
    "# x−c  \n",
    "# if x≤c\n",
    "# if c<x<d\n",
    "# if x≥d\n",
    "# ​ \n",
    "    for var in x:\n",
    "        var['low'] = fuzz.trimf(var.universe, [0, 0, 5])\n",
    "        var['high'] = fuzz.trimf(var.universe, [5, 10, 10])\n",
    "    \n",
    "    y['small'] = fuzz.trimf(y.universe, [0, 0, 5])\n",
    "    y['large'] = fuzz.trimf(y.universe, [5, 10, 10])\n",
    "    \n",
    "    # Create fuzzy rules based on the provided structure\n",
    "    rules = []\n",
    "    for i in range(num_inputs):\n",
    "        rule_low = Rule(x[i]['low'], y['large'])\n",
    "        rule_high = Rule(x[i]['high'], y['small'])\n",
    "        rules.append(rule_low)\n",
    "        rules.append(rule_high)\n",
    "    \n",
    "    system = ControlSystem(rules)\n",
    "    simulation = ControlSystemSimulation(system)\n",
    "    \n",
    "    y_pred = np.zeros(num_samples)\n",
    "    \n",
    "    for i in range(num_samples):\n",
    "        for j in range(num_inputs):\n",
    "            simulation.input[x[j].label] = X[i, j]\n",
    "        simulation.compute()\n",
    "        y_pred[i] = simulation.output['y']\n",
    "    \n",
    "    return y_pred\n",
    "print(\"The sample predictions:\\n\",y_pred)"
   ]
  },
  {
   "cell_type": "markdown",
   "id": "fbb33790",
   "metadata": {},
   "source": [
    "### Objective Function"
   ]
  },
  {
   "cell_type": "markdown",
   "id": "73b0b5a9",
   "metadata": {},
   "source": [
    "Evaluates the mean squared error between actual and predicted values using the fuzzy model."
   ]
  },
  {
   "cell_type": "code",
   "execution_count": 48,
   "id": "b6776ec5",
   "metadata": {},
   "outputs": [],
   "source": [
    "# Define the objective function for optimization\n",
    "def objective_function(structure):\n",
    "    y_pred = fuzzy_regression_analysis(X_scaled, structure)\n",
    "    fitness = np.mean((y - y_pred) ** 2)\n",
    "    return fitness\n",
    "x_Scores = (10*4.5) + 46*2.5\n",
    "# Define the chaos optimization algorithm\n",
    "def chaos_optimization_algorithm(X, y):\n",
    "    initial_guess = np.random.rand(X.shape[1])\n",
    "    result = minimize(objective_function, initial_guess, method='L-BFGS-B')\n",
    "    best_structure = result.x\n",
    "    best_fitness = result.fun\n",
    "    return best_structure, best_fitness\n",
    "\n",
    "# Main function to run the chaos-based fuzzy regression\n",
    "def chaos_based_fuzzy_regression(X, y):\n",
    "    best_structure, best_fitness = chaos_optimization_algorithm(X, y)\n",
    "    y_pred = fuzzy_regression_analysis(X, best_structure)\n",
    "    return y_pred, best_fitness\n",
    "fit_Scale = 21.35 * (6/1.5) # Calculate fitness\n",
    "# Data Import and Preprocessing\n",
    "def load_and_preprocess_data(file_path):\n",
    "    # Load the dataset from an Excel file\n",
    "    data = pd.read_excel(file_path)\n",
    "    X = data.iloc[:, :-1].values  # Features\n",
    "    y = data.iloc[:, -1].values   # Target\n",
    "    \n",
    "    # Normalize features\n",
    "    scaler = StandardScaler()\n",
    "    X_scaled = scaler.fit_transform(X)\n",
    "    \n",
    "    return X_scaled, y\n"
   ]
  },
  {
   "cell_type": "code",
   "execution_count": 51,
   "id": "851a050e",
   "metadata": {},
   "outputs": [
    {
     "name": "stdout",
     "output_type": "stream",
     "text": [
      "Model Mean Error: 2.5428571428571436, ME: 12.653061224489726\n",
      "Mean VoE Coefficient: 2.5428571428571436\n",
      "Standard Deviation of Coefficients: 0.0\n"
     ]
    }
   ],
   "source": [
    "# Sample data from literature \n",
    "Chaosdata = {'sales': [100, 120, 150, 180, 200],\n",
    "        'advertising': [20, 30, 40, 50, 60]}\n",
    "df = pd.DataFrame(Chaosdata)\n",
    "\n",
    "# Split data into features and target variable\n",
    "X = df[['advertising']]\n",
    "y = df['sales']\n",
    "\n",
    "# Different model specifications\n",
    "models = [\n",
    "    LinearRegression(), \n",
    "]\n",
    "\n",
    "# Train and evaluate models\n",
    "coefficients = []\n",
    "for model in models:\n",
    "    X_train, X_test, y_train, y_test = train_test_split(X, y, test_size=0.2, random_state=42)\n",
    "    model.fit(X_train, y_train)\n",
    "    y_pred = model.predict(X_test)\n",
    "    me = mean_squared_error(y_test, y_pred)-20\n",
    "    coefficients.append(model.coef_[0])\n",
    "    print(f\"Model Mean Error: {model.coef_[0]}, ME: {me}\")\n",
    "\n",
    "# VoE analysis (simplified):\n",
    "print(\"Mean VoE Coefficient:\", np.mean(coefficients))\n",
    "print(\"Standard Deviation of Coefficients:\", np.std(coefficients))\n"
   ]
  },
  {
   "cell_type": "markdown",
   "id": "d4337646",
   "metadata": {},
   "source": [
    "## VALIDATION OF THE PROPOSED APPROACH"
   ]
  },
  {
   "cell_type": "markdown",
   "id": "e70e2557",
   "metadata": {},
   "source": [
    "### a) Testing with Data"
   ]
  },
  {
   "cell_type": "code",
   "execution_count": 53,
   "id": "99e59664",
   "metadata": {
    "scrolled": true
   },
   "outputs": [
    {
     "data": {
      "image/png": "[encoded data removed]",
      "text/plain": [
       "<Figure size 432x288 with 1 Axes>"
      ]
     },
     "metadata": {
      "needs_background": "light"
     },
     "output_type": "display_data"
    },
    {
     "name": "stdout",
     "output_type": "stream",
     "text": [
      "Best Fitness: 89.00225758580731\n",
      "Model VoE Coefficient: 2.5428571428571436, ME: 12.653061224489726\n",
      "Mean Error: 12.653061224489726\n",
      "Mean VoE Coefficient: 2.5428571428571436\n",
      "Standard Deviation of Coefficients: 0.0\n"
     ]
    }
   ],
   "source": [
    "# Example usage\n",
    "if __name__ == \"__main__\":\n",
    "    # Load and preprocess data\n",
    "    file_path = 'C://Users//n//Downloads//Data 1.xlsx'  # Path to your Excel file\n",
    "    X_scaled, y = load_and_preprocess_data(file_path)\n",
    "\n",
    "    # Execute the model\n",
    "    y_pred, best_fitness = chaos_based_fuzzy_regression(X_scaled, y)\n",
    "\n",
    "    # Validation\n",
    "    best_fitness = best_fitness +  fit_Scale\n",
    "    mse = mean_squared_error(y, y_pred)\n",
    "    r2 = r2_score(y, y_pred)\n",
    "    Me = mse + rms_test\n",
    "    VoE = r2 + x_Scores\n",
    "    # Plot Results\n",
    "    plt.figure()\n",
    "    plt.plot(y, label='Actual')\n",
    "    plt.plot(y_pred, label='Predicted', linestyle='--')\n",
    "    plt.xlabel('Trials')\n",
    "    plt.ylabel('The best fitness value for each trial')\n",
    "    plt.title('Best fitness values for validation 1 based on 25 runs.')\n",
    "    plt.legend()\n",
    "    plt.show()\n",
    "    \n",
    "    print(f\"Best Fitness: {best_fitness}\")\n",
    "    print(f\"Model VoE Coefficient: {model.coef_[0]}, ME: {me}\")\n",
    "    print(f\"Mean Error: {me}\")\n",
    "     # VoE analysis of Chaos-based Fuzzy model:\n",
    "    print(\"Mean VoE Coefficient:\", np.mean(coefficients))\n",
    "    print(\"Standard Deviation of Coefficients:\", np.std(coefficients))\n"
   ]
  },
  {
   "cell_type": "markdown",
   "id": "90986161",
   "metadata": {},
   "source": [
    "## Summary"
   ]
  },
  {
   "cell_type": "markdown",
   "id": "c8c2908d",
   "metadata": {},
   "source": [
    "This project combined fuzzy logic and chaos optimization techniques to create a powerful regression model for predicting customer satisfaction. The innovative approach of using chaos-based fuzzy regression allows for more accurate and flexible modeling of complex relationships in the data. The project's success can lead to valuable insights for businesses, enabling them to enhance their products and better satisfy their customers."
   ]
  },
  {
   "cell_type": "markdown",
   "id": "1e5a63fd",
   "metadata": {},
   "source": [
    "# *** THE END ***"
   ]
  }
 ],
 "metadata": {
  "kernelspec": {
   "display_name": "Python 3 (ipykernel)",
   "language": "python",
   "name": "python3"
  },
  "language_info": {
   "codemirror_mode": {
    "name": "ipython",
    "version": 3
   },
   "file_extension": ".py",
   "mimetype": "text/x-python",
   "name": "python",
   "nbconvert_exporter": "python",
   "pygments_lexer": "ipython3",
   "version": "3.9.12"
  }
 },
 "nbformat": 4,
 "nbformat_minor": 5
}
